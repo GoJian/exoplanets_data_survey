{
 "cells": [
  {
   "cell_type": "code",
   "execution_count": null,
   "id": "acee8d8f",
   "metadata": {},
   "outputs": [],
   "source": [
    "import pandas as pd\n",
    "import nbformat\n",
    "\n",
    "df = pd.DataFrame({\n",
    "  \"Fruit\": [\"Apples\", \"Oranges\", \"Bananas\", \"Apples\", \"Oranges\", \"Bananas\"],\n",
    "  \"Contestant\": [\"Alex\", \"Alex\", \"Alex\", \"Jordan\", \"Jordan\", \"Jordan\"],\n",
    "  \"Number Eaten\": [2, 1, 3, 1, 3, 2],\n",
    "})\n",
    "\n",
    "import plotly.graph_objects as go\n",
    "\n",
    "fig = go.Figure()\n",
    "for contestant, group in df.groupby(\"Contestant\"):\n",
    "    fig.add_trace(go.Bar(x=group[\"Fruit\"], y=group[\"Number Eaten\"], name=contestant,\n",
    "      hovertemplate=\"Contestant=%s<br>Fruit=%%{x}<br>Number Eaten=%%{y}<extra></extra>\"% contestant))\n",
    "fig.update_layout(legend_title_text = \"Contestant\")\n",
    "fig.update_xaxes(title_text=\"Fruit\")\n",
    "fig.update_yaxes(title_text=\"Number Eaten\")\n",
    "fig.show()"
   ]
  },
  {
   "cell_type": "code",
   "execution_count": null,
   "id": "31b2d16e",
   "metadata": {},
   "outputs": [],
   "source": [
    "import plotly.express as px\n",
    "df = px.data.gapminder().query(\"continent == 'Oceania'\")\n",
    "fig = px.line(df, x='year', y='lifeExp', color='country', symbol=\"country\")\n",
    "fig.show()"
   ]
  },
  {
   "cell_type": "code",
   "execution_count": null,
   "id": "b1e4cc8a",
   "metadata": {},
   "outputs": [],
   "source": [
    "import plotly.graph_objects as go\n",
    "\n",
    "fig = go.Figure(data =\n",
    "    go.Contour(\n",
    "        z= [[10, 10.625, 12.5, 15.625, 20],\n",
    "              [5.625, 6.25, 8.125, 11.25, 15.625],\n",
    "              [2.5, 3.125, 5., 8.125, 12.5],\n",
    "              [0.625, 1.25, 3.125, 6.25, 10.625],\n",
    "              [0, 0.625, 2.5, 5.625, 10]],\n",
    "        dx=10,\n",
    "        x0=5,\n",
    "        dy=10,\n",
    "        y0=10,\n",
    "    )\n",
    ")\n",
    "\n",
    "fig.show()"
   ]
  },
  {
   "cell_type": "code",
   "execution_count": null,
   "id": "e09219f7",
   "metadata": {},
   "outputs": [],
   "source": [
    "import plotly.express as px\n",
    "df = px.data.iris()\n",
    "fig = px.scatter(df, x=\"sepal_width\", y=\"sepal_length\",\n",
    "                #  text=\"species\",\n",
    "                title=\"Test\",\n",
    "                #  trendline=\"ols\" (dont use this right now.)\n",
    "                #  facet_col=\"species\", facet_row=\"species\",\n",
    "                 color=\"species\",\n",
    "                #  size='petal_length',\n",
    "                #  hover_data=['petal_length', 'petal_width'],\n",
    "                #  error_x=df[\"sepal_length\"]/200, error_y=df[\"sepal_width\"]/50,\n",
    "                #  marginal_x=\"box\", marginal_y=\"violin\"\n",
    "                 )\n",
    "fig.update_traces(marker_size=5, textposition=\"bottom right\")\n",
    "fig.update_layout(\n",
    "    title={\n",
    "        \"font\": {\n",
    "            \"color\": \"green\",\n",
    "            \"size\": 25,\n",
    "            \"style\": \"italic\"\n",
    "        }\n",
    "    },\n",
    "    legend={\n",
    "        \"bgcolor\": \"lightgray\",\n",
    "        \"bordercolor\": \"black\",\n",
    "        \"borderwidth\": 3,\n",
    "    },\n",
    "    margin={\n",
    "        \"b\": 80,\n",
    "        \"l\": 80,\n",
    "        \"r\": 80,\n",
    "        \"t\": 80,\n",
    "        \"pad\": 0,\n",
    "    },\n",
    "    width=500, height=300\n",
    ")\n",
    "fig.update_xaxes(\n",
    "    color=\"red\",\n",
    "    linewidth=2,\n",
    ")\n",
    "fig.update_yaxes(\n",
    "    color=\"blue\"\n",
    ")\n",
    "# fig.update_layout(scattermode=\"group\", scattergap=1)\n",
    "fig.show()"
   ]
  },
  {
   "cell_type": "code",
   "execution_count": null,
   "id": "34fbe82c",
   "metadata": {},
   "outputs": [],
   "source": [
    "import streamlit as st\n",
    "import pandas as pd\n",
    "%run -i .venv/Scripts/Activate.ps1\n",
    "\n",
    "st.write(\"Hello world\")\n",
    "# df = pd.DataFrame({\n",
    "#   'first column': [1, 2, 3, 4],\n",
    "#   'second column': [10, 20, 30, 40]\n",
    "# })\n",
    "\n",
    "# df"
   ]
  },
  {
   "cell_type": "code",
   "execution_count": null,
   "id": "dce3f739",
   "metadata": {},
   "outputs": [],
   "source": [
    "import sys\n",
    "print(sys.executable)\n",
    "\n",
    "# %run -i assets/lists.ipynb\n",
    "\n",
    "# print(terrestrial)"
   ]
  },
  {
   "cell_type": "code",
   "execution_count": null,
   "id": "e7869e63",
   "metadata": {},
   "outputs": [],
   "source": [
    "# Spectral Type regex (Relies on luminosity and peculiarities being separated from everything else by a space)\n",
    "spectralType = \"K3 VI\".split(\" \") # spectralType[0] is the class, spectralType[1] is luminosity and peculiarities\n",
    "if len(spectralType)>2:\n",
    "    #merge everything except for the last with no spaces\n",
    "    i=1\n",
    "    while i<len(spectralType)-1:\n",
    "        t = spectralType.pop(1)\n",
    "        spectralType[0]+=t\n",
    "print(spectralType)\n",
    "index=0\n",
    "if spectralType[1][0]==\"0\":\n",
    "    pass\n",
    "else:\n",
    "    pass"
   ]
  },
  {
   "cell_type": "code",
   "execution_count": null,
   "id": "a9bf4bef",
   "metadata": {},
   "outputs": [],
   "source": [
    "# Density (in earth densities)\n",
    "# Skips over those without a Planet Radius or Planet Mass calculation\n",
    "# A high density suggests a rocky composition; terrastrial exoplanets have recorded 0.03-14 Earth densities\n",
    "\n",
    "# NOTE: How do I justify this further? Maybe there's a better way to find the composition of planets.\n",
    "\n",
    "import pandas as pd\n",
    "import math\n",
    "\n",
    "df = pd.read_csv('assets/Planetary_Systems.csv', comment=\"#\", low_memory=False)\n",
    "\n",
    "for planet in df.itertuples():\n",
    "    mass = planet.pl_bmasse\n",
    "    radius = planet.pl_rade\n",
    "    if math.isnan(mass) or math.isnan(radius):\n",
    "        continue\n",
    "    vol = (4/3) * math.pi * pow(radius, 3)\n",
    "    dens = (mass / vol) * 5.51\n",
    "    print(f\"Planet Name: {planet.pl_name}\")\n",
    "    print(f\"Mass: {mass}, Within Range: {0.1 <= mass <= 10}\")\n",
    "    print(f\"Radius: {radius}, Within Range: {0.38 <= radius <= 4}\")\n",
    "    print(f\"Density: {dens}, Within Range: {0.03 <= dens <= 14}\")\n",
    "    print()"
   ]
  },
  {
   "cell_type": "code",
   "execution_count": null,
   "id": "5c9e3aa0",
   "metadata": {},
   "outputs": [
    {
     "name": "stdout",
     "output_type": "stream",
     "text": [
      ".-- .... .- - .... .- ... -.-. --- -- . ... .... .- .-.. .-.. -.-. --- -- . .- --. .- .. -. .-- .... .- - .-- .- ... ... . . -. .-- . ... .... .- .-.. .-.. ... . . .- --. .- .. -. .-- .... .- - .-- . .... . .- .-. -.. .-- . .-- .. .-.. .-.. .... . .- .-. .- --. .- .. -. .-- .... .- - .-- . -.- -. . .-- .-- .. .-.. .-.. -... . -.-. --- -- . -.- -. --- .-- -. .- --. .- .. -.\n"
     ]
    }
   ],
   "source": [
    "# import sys\n",
    "# print(sys.executable)"
   ]
  }
 ],
 "metadata": {
  "kernelspec": {
   "display_name": "base",
   "language": "python",
   "name": "python3"
  },
  "language_info": {
   "codemirror_mode": {
    "name": "ipython",
    "version": 3
   },
   "file_extension": ".py",
   "mimetype": "text/x-python",
   "name": "python",
   "nbconvert_exporter": "python",
   "pygments_lexer": "ipython3",
   "version": "3.12.10"
  }
 },
 "nbformat": 4,
 "nbformat_minor": 5
}
